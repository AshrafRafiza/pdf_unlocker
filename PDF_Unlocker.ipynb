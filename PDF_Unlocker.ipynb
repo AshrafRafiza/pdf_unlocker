{
  "nbformat": 4,
  "nbformat_minor": 0,
  "metadata": {
    "colab": {
      "provenance": [],
      "authorship_tag": "ABX9TyPFzau+klXPNC+GDxLpWchg",
      "include_colab_link": true
    },
    "kernelspec": {
      "name": "python3",
      "display_name": "Python 3"
    },
    "language_info": {
      "name": "python"
    }
  },
  "cells": [
    {
      "cell_type": "markdown",
      "metadata": {
        "id": "view-in-github",
        "colab_type": "text"
      },
      "source": [
        "<a href=\"https://colab.research.google.com/github/AshrafRafiza/pdf_unlocker/blob/main/PDF_Unlocker.ipynb\" target=\"_parent\"><img src=\"https://colab.research.google.com/assets/colab-badge.svg\" alt=\"Open In Colab\"/></a>"
      ]
    },
    {
      "cell_type": "code",
      "execution_count": null,
      "metadata": {
        "colab": {
          "base_uri": "https://localhost:8080/",
          "height": 468
        },
        "id": "S_bzR73-by3T",
        "outputId": "065378b5-6e5a-41cb-c3a4-880bc2b150a3"
      },
      "outputs": [
        {
          "output_type": "stream",
          "name": "stdout",
          "text": [
            "Looking in indexes: https://pypi.org/simple, https://us-python.pkg.dev/colab-wheels/public/simple/\n",
            "Collecting pikepdf\n",
            "  Downloading pikepdf-6.2.1-cp37-cp37m-manylinux_2_17_x86_64.manylinux2014_x86_64.whl (2.6 MB)\n",
            "\u001b[K     |████████████████████████████████| 2.6 MB 7.5 MB/s \n",
            "\u001b[?25hRequirement already satisfied: packaging in /usr/local/lib/python3.7/dist-packages (from pikepdf) (21.3)\n",
            "Collecting deprecation\n",
            "  Downloading deprecation-2.1.0-py2.py3-none-any.whl (11 kB)\n",
            "Requirement already satisfied: importlib-metadata>=4 in /usr/local/lib/python3.7/dist-packages (from pikepdf) (4.13.0)\n",
            "Requirement already satisfied: lxml>=4.8 in /usr/local/lib/python3.7/dist-packages (from pikepdf) (4.9.1)\n",
            "Requirement already satisfied: typing-extensions>=4 in /usr/local/lib/python3.7/dist-packages (from pikepdf) (4.1.1)\n",
            "Collecting Pillow>=9.0\n",
            "  Downloading Pillow-9.3.0-cp37-cp37m-manylinux_2_17_x86_64.manylinux2014_x86_64.whl (3.2 MB)\n",
            "\u001b[K     |████████████████████████████████| 3.2 MB 52.5 MB/s \n",
            "\u001b[?25hRequirement already satisfied: zipp>=0.5 in /usr/local/lib/python3.7/dist-packages (from importlib-metadata>=4->pikepdf) (3.10.0)\n",
            "Requirement already satisfied: pyparsing!=3.0.5,>=2.0.2 in /usr/local/lib/python3.7/dist-packages (from packaging->pikepdf) (3.0.9)\n",
            "Installing collected packages: Pillow, deprecation, pikepdf\n",
            "  Attempting uninstall: Pillow\n",
            "    Found existing installation: Pillow 7.1.2\n",
            "    Uninstalling Pillow-7.1.2:\n",
            "      Successfully uninstalled Pillow-7.1.2\n",
            "Successfully installed Pillow-9.3.0 deprecation-2.1.0 pikepdf-6.2.1\n"
          ]
        },
        {
          "output_type": "display_data",
          "data": {
            "application/vnd.colab-display-data+json": {
              "pip_warning": {
                "packages": [
                  "PIL"
                ]
              }
            }
          },
          "metadata": {}
        }
      ],
      "source": [
        "pip install pikepdf"
      ]
    },
    {
      "cell_type": "code",
      "source": [
        "import pikepdf"
      ],
      "metadata": {
        "id": "hM2EzVDacaRy"
      },
      "execution_count": null,
      "outputs": []
    },
    {
      "cell_type": "code",
      "source": [
        "pdf_loc = input(\"PDF location: \")\n",
        "pdf_pass = input(\"PDF password: \")\n",
        "\n",
        "pdf = pikepdf.open(pdf_loc, password=pdf_pass)\n",
        "\n",
        "print(\"\\nProcessing...\\n\")\n",
        "\n",
        "pdf_save = input(\"Save file as: \")\n",
        "pdf_loc2 = input(\"Save location: \")\n",
        "\n",
        "pdf.save(pdf_loc2 + '//' + pdf_save)\n",
        "\n",
        "print(\"The password successfully removed from the PDF\")\n",
        "print(\"\\aLocation: \" + pdf_loc2 + '//' + pdf_save)"
      ],
      "metadata": {
        "colab": {
          "base_uri": "https://localhost:8080/"
        },
        "id": "9cj1S4Mib-dl",
        "outputId": "ee2b4610-d7a3-47b2-a131-a78dec0388f4"
      },
      "execution_count": null,
      "outputs": [
        {
          "output_type": "stream",
          "name": "stdout",
          "text": [
            "PDF location: /content/payslip_Sept22.pdf\n",
            "PDF password: 960301106211\n",
            "\n",
            "Processing...\n",
            "\n",
            "Save file as: payslip_Sept22.pdf\n",
            "Save location: /content/Unlock/\n",
            "The password successfully removed from the PDF\n",
            "\u0007Location: /content/Unlock///payslip_Sept22.pdf\n"
          ]
        }
      ]
    }
  ]
}